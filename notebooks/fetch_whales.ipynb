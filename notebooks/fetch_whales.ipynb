{
 "cells": [
  {
   "cell_type": "markdown",
   "id": "f4b74703",
   "metadata": {},
   "source": [
    "### Dune Fetcher"
   ]
  },
  {
   "cell_type": "markdown",
   "id": "90741f84",
   "metadata": {},
   "source": [
    "#### Fetch whale transfers from Dune"
   ]
  },
  {
   "cell_type": "code",
   "execution_count": 1,
   "id": "bf52c6f9",
   "metadata": {},
   "outputs": [
    {
     "name": "stdout",
     "output_type": "stream",
     "text": [
      "         amount                                from_address  \\\n",
      "0  2.000000e+06  0xf8824bc0768670ef2b8bc32e824edc3f9505698e   \n",
      "1  1.003928e+06  0x1f2f10d1c40777ae1da742455c65828ff36df387   \n",
      "2  1.002983e+06  0xe0e0e08a6a4b9dc7bd67bcb7aade5cf48157d444   \n",
      "3  1.000000e+07  0x55fe002aeff02f77364de339a1292923a15844b8   \n",
      "4  5.882363e+06  0xb7b41ec99a8a8a5fbec0785dc8ae2f99f580c728   \n",
      "\n",
      "                     timestamp                                  to_address  \\\n",
      "0  2025-09-16 11:46:47.000 UTC  0xb156cdc31a7fa54c72c79c5cdc51501ca233854a   \n",
      "1  2025-09-16 11:46:47.000 UTC  0xe0e0e08a6a4b9dc7bd67bcb7aade5cf48157d444   \n",
      "2  2025-09-16 11:46:47.000 UTC  0x1f2f10d1c40777ae1da742455c65828ff36df387   \n",
      "3  2025-09-16 11:46:23.000 UTC  0x0000000000000000000000000000000000000000   \n",
      "4  2025-09-16 11:46:23.000 UTC  0x23878914efe38d27c4d67ab83ed1b93a74d4086a   \n",
      "\n",
      "  token                                            tx_hash  \n",
      "0  USDT  0xbd10a5e6af73466c1b2a6fa1dad6e69de3809cd3f753...  \n",
      "1  USDC  0x7732ea00ce9d84e00b4a1ee5dc08255187aec7337d5f...  \n",
      "2  USDT  0x7732ea00ce9d84e00b4a1ee5dc08255187aec7337d5f...  \n",
      "3  USDC  0x6b4120ad5f9a34fe13efcbb1fe9654ded42e81b195f3...  \n",
      "4  USDT  0x94917cffea500631b6c655f3cb95769476b34b65da57...  \n"
     ]
    }
   ],
   "source": [
    "from dune_client.client import DuneClient\n",
    "import pandas as pd\n",
    "import sqlite3\n",
    "import os\n",
    "from dotenv import load_dotenv\n",
    "\n",
    "# Load environment variables from .env file\n",
    "load_dotenv()\n",
    "\n",
    "QUERY_ID =5763322\n",
    "# Load API key from environment variable for security\n",
    "DUNE_API_KEY = os.getenv(\"DUNE_KEY\")\n",
    "BASE_URL = \"https://api.dune.com/api/v1\"\n",
    "\n",
    "# Initialize client\n",
    "client = DuneClient(DUNE_API_KEY)\n",
    "\n",
    "# Fetch results\n",
    "def fetch_dune_query_results(query_id):\n",
    "    result = client.get_latest_result(query_id)\n",
    "    df = pd.DataFrame(result.result.rows)\n",
    "    return df\n",
    "\n",
    "# Fetch whale transfers\n",
    "whales_df = fetch_dune_query_results(QUERY_ID)\n",
    "print(whales_df.head())\n"
   ]
  },
  {
   "cell_type": "markdown",
   "id": "2c009e5f",
   "metadata": {},
   "source": [
    "#### Save whale transfers into SQLite"
   ]
  },
  {
   "cell_type": "code",
   "execution_count": 2,
   "id": "f665da33",
   "metadata": {},
   "outputs": [
    {
     "name": "stdout",
     "output_type": "stream",
     "text": [
      "✅ Whale transfers saved to database\n"
     ]
    }
   ],
   "source": [
    "def save_whale_transfers(df, db_path=\"../data/blockchain.db\"):\n",
    "    conn = sqlite3.connect(db_path)\n",
    "    df.to_sql(\"whale_transfers\", conn, if_exists=\"append\", index=False)\n",
    "    #conn.close()\n",
    "    print(\"✅ Whale transfers saved to database\")\n",
    "\n",
    "save_whale_transfers(whales_df)\n"
   ]
  },
  {
   "cell_type": "markdown",
   "id": "442ae944",
   "metadata": {},
   "source": [
    "#### Verify data in your database"
   ]
  },
  {
   "cell_type": "code",
   "execution_count": 3,
   "id": "e4558d61",
   "metadata": {},
   "outputs": [
    {
     "name": "stdout",
     "output_type": "stream",
     "text": [
      "         amount                                from_address  \\\n",
      "0  2.000000e+06  0xf8824bc0768670ef2b8bc32e824edc3f9505698e   \n",
      "1  1.003928e+06  0x1f2f10d1c40777ae1da742455c65828ff36df387   \n",
      "2  1.002983e+06  0xe0e0e08a6a4b9dc7bd67bcb7aade5cf48157d444   \n",
      "3  1.000000e+07  0x55fe002aeff02f77364de339a1292923a15844b8   \n",
      "4  5.882363e+06  0xb7b41ec99a8a8a5fbec0785dc8ae2f99f580c728   \n",
      "5  1.889774e+06  0x05ff6964d21e5dae3b1010d5ae0465b3c450f381   \n",
      "6  1.000000e+07  0x04d1237bc1914db1176851eb8102e08099af72f3   \n",
      "7  2.000000e+06  0x0000000000000000000000000000000000000000   \n",
      "8  1.619282e+06  0x356b8d89c1e1239cbbb9de4815c39a1474d5ba7d   \n",
      "9  1.599999e+07  0xb602facd3da8626b6a39e340ae13e6a3309944e6   \n",
      "\n",
      "                     timestamp                                  to_address  \\\n",
      "0  2025-09-16 11:46:47.000 UTC  0xb156cdc31a7fa54c72c79c5cdc51501ca233854a   \n",
      "1  2025-09-16 11:46:47.000 UTC  0xe0e0e08a6a4b9dc7bd67bcb7aade5cf48157d444   \n",
      "2  2025-09-16 11:46:47.000 UTC  0x1f2f10d1c40777ae1da742455c65828ff36df387   \n",
      "3  2025-09-16 11:46:23.000 UTC  0x0000000000000000000000000000000000000000   \n",
      "4  2025-09-16 11:46:23.000 UTC  0x23878914efe38d27c4d67ab83ed1b93a74d4086a   \n",
      "5  2025-09-16 11:45:59.000 UTC  0x8b8531da04315efbbcd14369ac9f91e7b3a2722e   \n",
      "6  2025-09-16 11:45:47.000 UTC  0x55fe002aeff02f77364de339a1292923a15844b8   \n",
      "7  2025-09-16 11:45:23.000 UTC  0x55fe002aeff02f77364de339a1292923a15844b8   \n",
      "8  2025-09-16 11:45:11.000 UTC  0x2b817b822b0ddd4597a92dbed1bd0a6796ca37e0   \n",
      "9  2025-09-16 11:45:11.000 UTC  0xd155429c5fea339d44fdbb47791a4cf410c359ca   \n",
      "\n",
      "  token                                            tx_hash  \n",
      "0  USDT  0xbd10a5e6af73466c1b2a6fa1dad6e69de3809cd3f753...  \n",
      "1  USDC  0x7732ea00ce9d84e00b4a1ee5dc08255187aec7337d5f...  \n",
      "2  USDT  0x7732ea00ce9d84e00b4a1ee5dc08255187aec7337d5f...  \n",
      "3  USDC  0x6b4120ad5f9a34fe13efcbb1fe9654ded42e81b195f3...  \n",
      "4  USDT  0x94917cffea500631b6c655f3cb95769476b34b65da57...  \n",
      "5  USDC  0xb231548b80c2e80a26d9d9387ea94654a46f56a444ae...  \n",
      "6  USDC  0xde530ceb1f19a2f77537174bb59bf281927b7db3f18f...  \n",
      "7  USDC  0xdcc93ca7b38e4cfae77104b312fa91f75f7645a73e1c...  \n",
      "8  USDT  0x20f3a9bb905f212289f84a9c6724c5a95db141750b30...  \n",
      "9  USDC  0x417f2cc400f60c1255b2016a414dccab656d06047215...  \n"
     ]
    }
   ],
   "source": [
    "conn = sqlite3.connect(\"../data/blockchain.db\")\n",
    "df_check = pd.read_sql(\"SELECT * FROM whale_transfers LIMIT 10;\", conn)\n",
    "conn.close()\n",
    "\n",
    "print(df_check)\n"
   ]
  }
 ],
 "metadata": {
  "kernelspec": {
   "display_name": "Python 3",
   "language": "python",
   "name": "python3"
  },
  "language_info": {
   "codemirror_mode": {
    "name": "ipython",
    "version": 3
   },
   "file_extension": ".py",
   "mimetype": "text/x-python",
   "name": "python",
   "nbconvert_exporter": "python",
   "pygments_lexer": "ipython3",
   "version": "3.12.6"
  }
 },
 "nbformat": 4,
 "nbformat_minor": 5
}
