{
 "cells": [
  {
   "cell_type": "code",
   "execution_count": 1,
   "id": "1284cf4e",
   "metadata": {},
   "outputs": [
    {
     "name": "stderr",
     "output_type": "stream",
     "text": [
      "C:\\Users\\Muhammad\\AppData\\Local\\Temp\\ipykernel_12284\\495625190.py:42: DeprecationWarning: DataFrameGroupBy.apply operated on the grouping columns. This behavior is deprecated, and in a future version of pandas the grouping columns will be excluded from the operation. Either pass `include_groups=False` to exclude the groupings or explicitly select the grouping columns after groupby to silence this warning.\n",
      "  .apply(lambda g: g.resample(\"1h\").ffill())  # forward-fill\n"
     ]
    },
    {
     "name": "stdout",
     "output_type": "stream",
     "text": [
      "bitcoin: min=2021-08-12 00:00:00+00:00, max=2025-09-19 10:00:00+00:00\n",
      "ethereum: min=2021-08-12 00:00:00+00:00, max=2025-09-19 10:00:00+00:00\n",
      "tether: min=2021-08-12 00:00:00+00:00, max=2025-09-19 10:00:00+00:00\n",
      "usd-coin: min=2021-08-12 00:00:00+00:00, max=2025-09-19 10:00:00+00:00\n",
      "                  timestamp    asset     price_usd    market_cap    volume_24h\n",
      "0 2021-08-12 00:00:00+00:00  bitcoin  45652.060125  8.576606e+11  3.567983e+10\n",
      "1 2021-08-12 01:00:00+00:00  bitcoin  45652.060125  8.576606e+11  3.567983e+10\n",
      "2 2021-08-12 02:00:00+00:00  bitcoin  45652.060125  8.576606e+11  3.567983e+10\n",
      "3 2021-08-12 03:00:00+00:00  bitcoin  45652.060125  8.576606e+11  3.567983e+10\n",
      "4 2021-08-12 04:00:00+00:00  bitcoin  45652.060125  8.576606e+11  3.567983e+10\n",
      "5 2021-08-12 05:00:00+00:00  bitcoin  45652.060125  8.576606e+11  3.567983e+10\n",
      "6 2021-08-12 06:00:00+00:00  bitcoin  45652.060125  8.576606e+11  3.567983e+10\n",
      "7 2021-08-12 07:00:00+00:00  bitcoin  45652.060125  8.576606e+11  3.567983e+10\n",
      "8 2021-08-12 08:00:00+00:00  bitcoin  45652.060125  8.576606e+11  3.567983e+10\n",
      "9 2021-08-12 09:00:00+00:00  bitcoin  45652.060125  8.576606e+11  3.567983e+10\n",
      "                       timestamp     asset  price_usd    market_cap  \\\n",
      "143938 2025-09-19 01:00:00+00:00  usd-coin   0.999729  7.433868e+10   \n",
      "143939 2025-09-19 02:00:00+00:00  usd-coin   0.999729  7.433868e+10   \n",
      "143940 2025-09-19 03:00:00+00:00  usd-coin   0.999729  7.433868e+10   \n",
      "143941 2025-09-19 04:00:00+00:00  usd-coin   0.999729  7.433868e+10   \n",
      "143942 2025-09-19 05:00:00+00:00  usd-coin   0.999729  7.433868e+10   \n",
      "143943 2025-09-19 06:00:00+00:00  usd-coin   0.999729  7.433868e+10   \n",
      "143944 2025-09-19 07:00:00+00:00  usd-coin   0.999729  7.433868e+10   \n",
      "143945 2025-09-19 08:00:00+00:00  usd-coin   0.999729  7.433868e+10   \n",
      "143946 2025-09-19 09:00:00+00:00  usd-coin   0.999729  7.433868e+10   \n",
      "143947 2025-09-19 10:00:00+00:00  usd-coin   0.999729  7.433868e+10   \n",
      "\n",
      "          volume_24h  \n",
      "143938  2.784912e+10  \n",
      "143939  2.784912e+10  \n",
      "143940  2.784912e+10  \n",
      "143941  2.784912e+10  \n",
      "143942  2.784912e+10  \n",
      "143943  2.784912e+10  \n",
      "143944  2.784912e+10  \n",
      "143945  2.784912e+10  \n",
      "143946  2.784912e+10  \n",
      "143947  2.784912e+10  \n"
     ]
    }
   ],
   "source": [
    "import requests\n",
    "import pandas as pd\n",
    "from datetime import datetime, timezone\n",
    "import os\n",
    "from dotenv import load_dotenv\n",
    "\n",
    "# Load API key\n",
    "load_dotenv()\n",
    "COINGECKO_API_KEY = os.getenv(\"GECKO_KEY\")\n",
    "\n",
    "def fetch_price_history(days=1500, coin_ids=[\"bitcoin\", \"ethereum\", \"tether\", \"usd-coin\"]):\n",
    "    rows = []\n",
    "    headers = {\"x-cg-pro-api-key\": COINGECKO_API_KEY}\n",
    "\n",
    "    for coin in coin_ids:\n",
    "        url = f\"https://pro-api.coingecko.com/api/v3/coins/{coin}/market_chart\"\n",
    "        params = {\"vs_currency\": \"usd\", \"days\": days}\n",
    "\n",
    "        response = requests.get(url, params=params, headers=headers)\n",
    "        response.raise_for_status()\n",
    "        data = response.json()\n",
    "\n",
    "        for i, (ts, price) in enumerate(data[\"prices\"]):\n",
    "            timestamp = datetime.fromtimestamp(ts / 1000, tz=timezone.utc)\n",
    "            market_cap = data[\"market_caps\"][i][1] if i < len(data[\"market_caps\"]) else None\n",
    "            volume_24h = data[\"total_volumes\"][i][1] if i < len(data[\"total_volumes\"]) else None\n",
    "\n",
    "            rows.append({\n",
    "                \"timestamp\": timestamp,\n",
    "                \"asset\": coin.lower(),\n",
    "                \"price_usd\": price,\n",
    "                \"market_cap\": market_cap,\n",
    "                \"volume_24h\": volume_24h\n",
    "            })\n",
    "\n",
    "    df = pd.DataFrame(rows)\n",
    "\n",
    "    # Resample to hourly frequency per asset\n",
    "    df = (\n",
    "        df.set_index(\"timestamp\")\n",
    "          .groupby(\"asset\", group_keys=False)\n",
    "          .apply(lambda g: g.resample(\"1h\").ffill())  # forward-fill\n",
    "          .reset_index()\n",
    "    )\n",
    "\n",
    "    # Print min/max timestamp per asset for debugging\n",
    "    for asset in df['asset'].unique():\n",
    "        asset_df = df[df['asset'] == asset]\n",
    "        print(f\"{asset}: min={asset_df['timestamp'].min()}, max={asset_df['timestamp'].max()}\")\n",
    "\n",
    "    return df\n",
    "\n",
    "# Example: fetch enough days to cover all summary weeks\n",
    "prices_df = fetch_price_history(days=1500)\n",
    "print(prices_df.head(10))\n",
    "print(prices_df.tail(10))"
   ]
  },
  {
   "cell_type": "code",
   "execution_count": 2,
   "id": "643cb853",
   "metadata": {},
   "outputs": [
    {
     "name": "stdout",
     "output_type": "stream",
     "text": [
      "Old price table deleted and new one created ✅\n"
     ]
    }
   ],
   "source": [
    "import sqlite3\n",
    "\n",
    "# Connect to DB\n",
    "conn = sqlite3.connect(\"../data/blockchain.db\")\n",
    "cursor = conn.cursor()\n",
    "\n",
    "# Drop old price table if it exists\n",
    "cursor.execute(\"DROP TABLE IF EXISTS prices;\")\n",
    "conn.commit()\n",
    "\n",
    "# Now save the fresh price data\n",
    "prices_df.to_sql(\"prices\", conn, if_exists=\"replace\", index=False)\n",
    "\n",
    "conn.close()\n",
    "print(\"Old price table deleted and new one created ✅\")"
   ]
  },
  {
   "cell_type": "code",
   "execution_count": 4,
   "id": "23bce010",
   "metadata": {},
   "outputs": [
    {
     "name": "stdout",
     "output_type": "stream",
     "text": [
      "✅ Data inserted into SQLite successfully!\n"
     ]
    }
   ],
   "source": [
    "# Connect to SQLite\n",
    "conn = sqlite3.connect(\"../data/blockchain.db\")\n",
    "cursor = conn.cursor()\n",
    "\n",
    "# Create table if not exists\n",
    "cursor.execute(\"\"\"\n",
    "CREATE TABLE IF NOT EXISTS prices (\n",
    "    id INTEGER PRIMARY KEY AUTOINCREMENT,\n",
    "    timestamp TEXT,\n",
    "    asset TEXT,\n",
    "    price_usd REAL,\n",
    "    market_cap REAL,\n",
    "    volume_24h REAL\n",
    ")\n",
    "\"\"\")\n",
    "\n",
    "# Fetch and insert\n",
    "prices_df.to_sql(\"prices\", conn, if_exists=\"replace\", index=False)\n",
    "\n",
    "conn.commit()\n",
    "conn.close()\n",
    "\n",
    "print(\"✅ Data inserted into SQLite successfully!\")"
   ]
  },
  {
   "cell_type": "code",
   "execution_count": 5,
   "id": "c2501ff3",
   "metadata": {},
   "outputs": [
    {
     "name": "stdout",
     "output_type": "stream",
     "text": [
      "✅ Price data saved to database\n"
     ]
    }
   ],
   "source": [
    "import sqlite3\n",
    "def save_price(prices_df, db_path=\"../data/blockchain.db\"):\n",
    "    conn = sqlite3.connect(db_path)\n",
    "    prices_df.to_sql(\"price\", conn, if_exists=\"replace\", index=False)\n",
    "    #conn.close()\n",
    "    print(\"✅ Price data saved to database\")\n",
    "\n",
    "save_price(prices_df)"
   ]
  },
  {
   "cell_type": "code",
   "execution_count": 6,
   "id": "6f0607de",
   "metadata": {},
   "outputs": [
    {
     "name": "stdout",
     "output_type": "stream",
     "text": [
      "                   timestamp    asset     price_usd    market_cap  \\\n",
      "0  2021-08-12 00:00:00+00:00  bitcoin  45652.060125  8.576606e+11   \n",
      "1  2021-08-12 01:00:00+00:00  bitcoin  45652.060125  8.576606e+11   \n",
      "2  2021-08-12 02:00:00+00:00  bitcoin  45652.060125  8.576606e+11   \n",
      "3  2021-08-12 03:00:00+00:00  bitcoin  45652.060125  8.576606e+11   \n",
      "4  2021-08-12 04:00:00+00:00  bitcoin  45652.060125  8.576606e+11   \n",
      "5  2021-08-12 05:00:00+00:00  bitcoin  45652.060125  8.576606e+11   \n",
      "6  2021-08-12 06:00:00+00:00  bitcoin  45652.060125  8.576606e+11   \n",
      "7  2021-08-12 07:00:00+00:00  bitcoin  45652.060125  8.576606e+11   \n",
      "8  2021-08-12 08:00:00+00:00  bitcoin  45652.060125  8.576606e+11   \n",
      "9  2021-08-12 09:00:00+00:00  bitcoin  45652.060125  8.576606e+11   \n",
      "\n",
      "     volume_24h  \n",
      "0  3.567983e+10  \n",
      "1  3.567983e+10  \n",
      "2  3.567983e+10  \n",
      "3  3.567983e+10  \n",
      "4  3.567983e+10  \n",
      "5  3.567983e+10  \n",
      "6  3.567983e+10  \n",
      "7  3.567983e+10  \n",
      "8  3.567983e+10  \n",
      "9  3.567983e+10  \n"
     ]
    }
   ],
   "source": [
    "conn = sqlite3.connect(\"../data/blockchain.db\")\n",
    "df_check = pd.read_sql(\"SELECT * FROM prices LIMIT 10;\", conn)\n",
    "#conn.close()\n",
    "\n",
    "print(df_check)"
   ]
  }
 ],
 "metadata": {
  "kernelspec": {
   "display_name": "Python 3",
   "language": "python",
   "name": "python3"
  },
  "language_info": {
   "codemirror_mode": {
    "name": "ipython",
    "version": 3
   },
   "file_extension": ".py",
   "mimetype": "text/x-python",
   "name": "python",
   "nbconvert_exporter": "python",
   "pygments_lexer": "ipython3",
   "version": "3.12.6"
  }
 },
 "nbformat": 4,
 "nbformat_minor": 5
}
